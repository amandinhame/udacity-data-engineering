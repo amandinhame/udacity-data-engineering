{
 "cells": [
  {
   "cell_type": "markdown",
   "metadata": {},
   "source": [
    "# Data Wrangling with DataFrames Coding Quiz\n",
    "\n",
    "Use this Jupyter notebook to find the answers to the quiz in the previous section. There is an answer key in the next part of the lesson."
   ]
  },
  {
   "cell_type": "code",
   "execution_count": 1,
   "metadata": {},
   "outputs": [],
   "source": [
    "from pyspark.sql import SparkSession, Window\n",
    "from pyspark.sql.functions import desc, sum, udf, col, mean\n",
    "from pyspark.sql.types import IntegerType\n",
    "\n",
    "spark = SparkSession \\\n",
    "    .builder \\\n",
    "    .appName(\"Wrangling Data\") \\\n",
    "    .getOrCreate()\n",
    "\n",
    "path = \"data/sparkify_log_small.json\"\n",
    "user_log = spark.read.json(path)"
   ]
  },
  {
   "cell_type": "code",
   "execution_count": 2,
   "metadata": {},
   "outputs": [
    {
     "name": "stdout",
     "output_type": "stream",
     "text": [
      "root\n",
      " |-- artist: string (nullable = true)\n",
      " |-- auth: string (nullable = true)\n",
      " |-- firstName: string (nullable = true)\n",
      " |-- gender: string (nullable = true)\n",
      " |-- itemInSession: long (nullable = true)\n",
      " |-- lastName: string (nullable = true)\n",
      " |-- length: double (nullable = true)\n",
      " |-- level: string (nullable = true)\n",
      " |-- location: string (nullable = true)\n",
      " |-- method: string (nullable = true)\n",
      " |-- page: string (nullable = true)\n",
      " |-- registration: long (nullable = true)\n",
      " |-- sessionId: long (nullable = true)\n",
      " |-- song: string (nullable = true)\n",
      " |-- status: long (nullable = true)\n",
      " |-- ts: long (nullable = true)\n",
      " |-- userAgent: string (nullable = true)\n",
      " |-- userId: string (nullable = true)\n",
      "\n"
     ]
    }
   ],
   "source": [
    "user_log.printSchema()"
   ]
  },
  {
   "cell_type": "markdown",
   "metadata": {},
   "source": [
    "# Question 1\n",
    "\n",
    "Which page did user id \"\" (empty string) NOT visit?"
   ]
  },
  {
   "cell_type": "code",
   "execution_count": 3,
   "metadata": {},
   "outputs": [
    {
     "name": "stdout",
     "output_type": "stream",
     "text": [
      "+-----+\n",
      "| page|\n",
      "+-----+\n",
      "| Home|\n",
      "|About|\n",
      "|Login|\n",
      "| Help|\n",
      "+-----+\n",
      "\n"
     ]
    }
   ],
   "source": [
    "user_log.filter(user_log['userId'] == '').select(['page']).dropDuplicates().show()"
   ]
  },
  {
   "cell_type": "markdown",
   "metadata": {},
   "source": [
    "# Question 2 - Reflect\n",
    "\n",
    "What type of user does the empty string user id most likely refer to?\n"
   ]
  },
  {
   "cell_type": "code",
   "execution_count": 4,
   "metadata": {},
   "outputs": [
    {
     "name": "stdout",
     "output_type": "stream",
     "text": [
      "+------+----------+---------+------+-------------+--------+------+-----+--------+------+-----+------------+---------+----+------+-------------+---------+------+\n",
      "|artist|      auth|firstName|gender|itemInSession|lastName|length|level|location|method| page|registration|sessionId|song|status|           ts|userAgent|userId|\n",
      "+------+----------+---------+------+-------------+--------+------+-----+--------+------+-----+------------+---------+----+------+-------------+---------+------+\n",
      "|  null|Logged Out|     null|  null|            0|    null|  null| free|    null|   PUT|Login|        null|     5598|null|   307|1513721196284|     null|      |\n",
      "|  null|Logged Out|     null|  null|           26|    null|  null| paid|    null|   GET| Home|        null|      428|null|   200|1513721274284|     null|      |\n",
      "|  null|Logged Out|     null|  null|            5|    null|  null| free|    null|   GET| Home|        null|     2941|null|   200|1513722009284|     null|      |\n",
      "|  null|Logged Out|     null|  null|            5|    null|  null| paid|    null|   GET| Home|        null|     5243|null|   200|1513723183284|     null|      |\n",
      "|  null|Logged Out|     null|  null|            6|    null|  null| paid|    null|   PUT|Login|        null|     5243|null|   307|1513723184284|     null|      |\n",
      "+------+----------+---------+------+-------------+--------+------+-----+--------+------+-----+------------+---------+----+------+-------------+---------+------+\n",
      "only showing top 5 rows\n",
      "\n"
     ]
    }
   ],
   "source": [
    "user_log.filter(user_log['userId'] == '').show(n=5)"
   ]
  },
  {
   "cell_type": "markdown",
   "metadata": {},
   "source": [
    "# Question 3\n",
    "\n",
    "How many female users do we have in the data set?"
   ]
  },
  {
   "cell_type": "code",
   "execution_count": 5,
   "metadata": {},
   "outputs": [
    {
     "data": {
      "text/plain": [
       "462"
      ]
     },
     "execution_count": 5,
     "metadata": {},
     "output_type": "execute_result"
    }
   ],
   "source": [
    "user_log.filter(user_log['gender'] == 'F').select(['userId']).dropDuplicates().count()"
   ]
  },
  {
   "cell_type": "markdown",
   "metadata": {},
   "source": [
    "# Question 4\n",
    "\n",
    "How many songs were played from the most played artist?"
   ]
  },
  {
   "cell_type": "code",
   "execution_count": 6,
   "metadata": {},
   "outputs": [
    {
     "name": "stdout",
     "output_type": "stream",
     "text": [
      "+--------------------+-----+\n",
      "|              artist|count|\n",
      "+--------------------+-----+\n",
      "|                null| 1653|\n",
      "|            Coldplay|   83|\n",
      "|       Kings Of Leon|   69|\n",
      "|Florence + The Ma...|   52|\n",
      "|            BjÃÂ¶rk|   46|\n",
      "+--------------------+-----+\n",
      "only showing top 5 rows\n",
      "\n"
     ]
    }
   ],
   "source": [
    "user_log.groupby(user_log['artist']).count().sort(desc('count')).show(n=5)"
   ]
  },
  {
   "cell_type": "markdown",
   "metadata": {},
   "source": [
    "# Question 5 (challenge)\n",
    "\n",
    "How many songs do users listen to on average between visiting our home page? Please round your answer to the closest integer.\n",
    "\n"
   ]
  },
  {
   "cell_type": "code",
   "execution_count": 7,
   "metadata": {},
   "outputs": [
    {
     "name": "stdout",
     "output_type": "stream",
     "text": [
      "+------+---------+----+\n",
      "|userId|     page|rank|\n",
      "+------+---------+----+\n",
      "|  1436| NextSong|   0|\n",
      "|  1436| NextSong|   0|\n",
      "|  2088|     Home|   1|\n",
      "|  2088| NextSong|   1|\n",
      "|  2088| NextSong|   1|\n",
      "|  2088| NextSong|   1|\n",
      "|  2088| NextSong|   1|\n",
      "|  2088| NextSong|   1|\n",
      "|  2088| NextSong|   1|\n",
      "|  2088| NextSong|   1|\n",
      "|  2088| NextSong|   1|\n",
      "|  2088| NextSong|   1|\n",
      "|  2088| NextSong|   1|\n",
      "|  2088| NextSong|   1|\n",
      "|  2088| NextSong|   1|\n",
      "|  2088| NextSong|   1|\n",
      "|  2162|Downgrade|   0|\n",
      "|  2162| NextSong|   0|\n",
      "|  2162| NextSong|   0|\n",
      "|  2162| NextSong|   0|\n",
      "+------+---------+----+\n",
      "only showing top 20 rows\n",
      "\n",
      "+------+----+-----+\n",
      "|userId|rank|count|\n",
      "+------+----+-----+\n",
      "|  1436|   0|    2|\n",
      "|  2088|   1|   13|\n",
      "|  2162|   0|   19|\n",
      "|  2162|   2|   15|\n",
      "|  2294|   0|    4|\n",
      "|  2294|   1|   17|\n",
      "|  2294|   2|    3|\n",
      "|  2294|   3|   16|\n",
      "|  2294|   4|    4|\n",
      "|  2294|   5|   11|\n",
      "|  2904|   0|    1|\n",
      "|   691|   1|    3|\n",
      "|  1394|   0|    9|\n",
      "|  1394|   1|   17|\n",
      "|  2275|   0|    3|\n",
      "|  2756|   0|    4|\n",
      "|  2756|   2|    1|\n",
      "|   451|   0|    1|\n",
      "|   451|   1|    1|\n",
      "|   800|   1|    2|\n",
      "+------+----+-----+\n",
      "only showing top 20 rows\n",
      "\n",
      "+-----------------+\n",
      "|       avg(count)|\n",
      "+-----------------+\n",
      "|6.898347107438017|\n",
      "+-----------------+\n",
      "\n"
     ]
    }
   ],
   "source": [
    "is_home = udf(lambda x: int(x == 'Home'), IntegerType())\n",
    "user_log_home = user_log.withColumn('home', is_home(col('page')))\n",
    "\n",
    "window = Window.partitionBy(['userId']).orderBy(desc('ts')).rangeBetween(Window.unboundedPreceding, 0)\n",
    "\n",
    "user_log_rank = user_log_home.withColumn('rank', sum('home').over(window))\n",
    "user_log_rank.select(['userId', 'page', 'rank']).show()\n",
    "\n",
    "user_log_count = user_log_rank.where(user_log_rank.page == 'NextSong').groupby('userId', 'rank').count()\n",
    "user_log_count.show()\n",
    "\n",
    "user_log_count.agg({'count': 'avg'}).show()"
   ]
  },
  {
   "cell_type": "code",
   "execution_count": null,
   "metadata": {},
   "outputs": [],
   "source": []
  }
 ],
 "metadata": {
  "kernelspec": {
   "display_name": "Python 3",
   "language": "python",
   "name": "python3"
  },
  "language_info": {
   "codemirror_mode": {
    "name": "ipython",
    "version": 3
   },
   "file_extension": ".py",
   "mimetype": "text/x-python",
   "name": "python",
   "nbconvert_exporter": "python",
   "pygments_lexer": "ipython3",
   "version": "3.6.3"
  }
 },
 "nbformat": 4,
 "nbformat_minor": 2
}
